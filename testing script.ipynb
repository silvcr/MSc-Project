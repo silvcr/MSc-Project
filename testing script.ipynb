{
 "cells": [
  {
   "cell_type": "code",
   "execution_count": 43,
   "id": "6aeccfd3-64de-409e-adba-1604a1953819",
   "metadata": {},
   "outputs": [],
   "source": [
    "from sklearn.ensemble import AdaBoostClassifier, RandomForestClassifier\n",
    "import xgboost as xgb\n",
    "from sklearn.tree import DecisionTreeClassifier\n",
    "from sklearn.linear_model import LogisticRegression\n",
    "from sklearn.neural_network import MLPClassifier\n",
    "from sklearn.svm import SVC\n",
    "from sklearn.metrics import f1_score\n",
    "import pandas as pd\n",
    "import numpy as np"
   ]
  },
  {
   "cell_type": "code",
   "execution_count": 14,
   "id": "4bb0c3d1-5a2e-49ab-b900-07c20cb331c3",
   "metadata": {},
   "outputs": [],
   "source": [
    "pima_original = pd.read_csv(\"original_data/pima_train.csv\")\n",
    "pima_axgb = pd.read_csv(\"axgb_data/pima_train.csv\")\n",
    "pima_arf = pd.read_csv(\"arf_data/pima_train.csv\", index_col=0)\n",
    "pima_test = pd.read_csv(\"original_data/pima_test.csv\")"
   ]
  },
  {
   "cell_type": "code",
   "execution_count": 15,
   "id": "49e0f714-c1cd-4f0b-82b5-f8b039cd35d3",
   "metadata": {},
   "outputs": [],
   "source": [
    "breastcancer_original = pd.read_csv(\"original_data/breastcancer_train.csv\")\n",
    "breastcancer_axgb = pd.read_csv(\"axgb_data/breastcancer_train.csv\")\n",
    "breastcancer_arf = pd.read_csv(\"arf_data/breastcancer_train.csv\", index_col=0)\n",
    "breastcancer_test = pd.read_csv(\"original_data/breastcancer_test.csv\")"
   ]
  },
  {
   "cell_type": "code",
   "execution_count": 18,
   "id": "ed19a9b0-6fa3-48db-a4f9-c4fbde346272",
   "metadata": {},
   "outputs": [],
   "source": [
    "vowel_original = pd.read_csv(\"original_data/vowel_train.csv\")\n",
    "vowel_axgb = pd.read_csv(\"axgb_data/vowel_synth.csv\")\n",
    "vowel_arf = pd.read_csv(\"arf_data/vowel_train.csv\", index_col=0)\n",
    "vowel_test = pd.read_csv(\"original_data/vowel_test.csv\")"
   ]
  },
  {
   "cell_type": "code",
   "execution_count": 19,
   "id": "a00fdc04-c4e9-403c-ae4a-e6d451bd75c0",
   "metadata": {},
   "outputs": [],
   "source": [
    "abalone_original = pd.read_csv(\"original_data/abalone_train.csv\")\n",
    "abalone_axgb = pd.read_csv(\"axgb_data/abalone_train.csv\")\n",
    "abalone_arf = pd.read_csv(\"arf_data/abalone_train.csv\", index_col=0)\n",
    "abalone_test = pd.read_csv(\"original_data/abalone_test.csv\")"
   ]
  },
  {
   "cell_type": "code",
   "execution_count": 20,
   "id": "3192a8db-f9b5-48f2-85af-50f2577b84a4",
   "metadata": {},
   "outputs": [],
   "source": [
    "dry_bean_original = pd.read_csv(\"original_data/dry_bean_train.csv\")\n",
    "dry_bean_axgb = pd.read_csv(\"axgb_data/dry_bean_train.csv\")\n",
    "dry_bean_arf = pd.read_csv(\"arf_data/dry_bean_train.csv\", index_col=0)\n",
    "dry_bean_test = pd.read_csv(\"original_data/dry_bean_test.csv\")"
   ]
  },
  {
   "cell_type": "code",
   "execution_count": 21,
   "id": "1ec6dea4-3e5d-4645-ac58-e6718fa46415",
   "metadata": {},
   "outputs": [],
   "source": [
    "wine_quality_original = pd.read_csv(\"original_data/wine_quality_train.csv\")\n",
    "wine_quality_axgb = pd.read_csv(\"axgb_data/wine_quality_train.csv\")\n",
    "wine_quality_arf = pd.read_csv(\"arf_data/wine_quality_train.csv\", index_col=0)\n",
    "wine_quality_test = pd.read_csv(\"original_data/wine_quality_test.csv\")"
   ]
  },
  {
   "cell_type": "code",
   "execution_count": 70,
   "id": "b8b96a65-5a6d-4ab0-925d-88b27063da42",
   "metadata": {},
   "outputs": [],
   "source": [
    "oracle = [AdaBoostClassifier(n_estimators = 50), DecisionTreeClassifier(), \n",
    "            SVC(), MLPClassifier(max_iter = 500)]\n",
    "arf_clf = [AdaBoostClassifier(n_estimators = 50), DecisionTreeClassifier(), \n",
    "            SVC(), MLPClassifier(max_iter = 500)]\n",
    "axgb_clf = [AdaBoostClassifier(n_estimators = 50), DecisionTreeClassifier(), \n",
    "            SVC(), MLPClassifier(max_iter = 500)]"
   ]
  },
  {
   "cell_type": "code",
   "execution_count": 71,
   "id": "21dca1ec-6518-458a-aa74-b42edf6dfee2",
   "metadata": {},
   "outputs": [
    {
     "data": {
      "text/html": [
       "<div>\n",
       "<style scoped>\n",
       "    .dataframe tbody tr th:only-of-type {\n",
       "        vertical-align: middle;\n",
       "    }\n",
       "\n",
       "    .dataframe tbody tr th {\n",
       "        vertical-align: top;\n",
       "    }\n",
       "\n",
       "    .dataframe thead th {\n",
       "        text-align: right;\n",
       "    }\n",
       "</style>\n",
       "<table border=\"1\" class=\"dataframe\">\n",
       "  <thead>\n",
       "    <tr style=\"text-align: right;\">\n",
       "      <th></th>\n",
       "      <th>pregnant</th>\n",
       "      <th>glucose</th>\n",
       "      <th>pressure</th>\n",
       "      <th>triceps</th>\n",
       "      <th>insulin</th>\n",
       "      <th>mass</th>\n",
       "      <th>pedigree</th>\n",
       "      <th>age</th>\n",
       "      <th>diabetes</th>\n",
       "    </tr>\n",
       "  </thead>\n",
       "  <tbody>\n",
       "    <tr>\n",
       "      <th>0</th>\n",
       "      <td>0</td>\n",
       "      <td>111</td>\n",
       "      <td>65</td>\n",
       "      <td>0</td>\n",
       "      <td>0</td>\n",
       "      <td>24.6</td>\n",
       "      <td>0.660</td>\n",
       "      <td>31</td>\n",
       "      <td>neg</td>\n",
       "    </tr>\n",
       "    <tr>\n",
       "      <th>1</th>\n",
       "      <td>1</td>\n",
       "      <td>91</td>\n",
       "      <td>54</td>\n",
       "      <td>25</td>\n",
       "      <td>100</td>\n",
       "      <td>25.2</td>\n",
       "      <td>0.234</td>\n",
       "      <td>23</td>\n",
       "      <td>neg</td>\n",
       "    </tr>\n",
       "    <tr>\n",
       "      <th>2</th>\n",
       "      <td>4</td>\n",
       "      <td>131</td>\n",
       "      <td>68</td>\n",
       "      <td>21</td>\n",
       "      <td>166</td>\n",
       "      <td>33.1</td>\n",
       "      <td>0.160</td>\n",
       "      <td>28</td>\n",
       "      <td>neg</td>\n",
       "    </tr>\n",
       "    <tr>\n",
       "      <th>3</th>\n",
       "      <td>7</td>\n",
       "      <td>142</td>\n",
       "      <td>90</td>\n",
       "      <td>24</td>\n",
       "      <td>480</td>\n",
       "      <td>30.4</td>\n",
       "      <td>0.128</td>\n",
       "      <td>43</td>\n",
       "      <td>pos</td>\n",
       "    </tr>\n",
       "    <tr>\n",
       "      <th>4</th>\n",
       "      <td>0</td>\n",
       "      <td>78</td>\n",
       "      <td>88</td>\n",
       "      <td>29</td>\n",
       "      <td>40</td>\n",
       "      <td>36.9</td>\n",
       "      <td>0.434</td>\n",
       "      <td>21</td>\n",
       "      <td>neg</td>\n",
       "    </tr>\n",
       "  </tbody>\n",
       "</table>\n",
       "</div>"
      ],
      "text/plain": [
       "   pregnant  glucose  pressure  triceps  insulin  mass  pedigree  age diabetes\n",
       "0         0      111        65        0        0  24.6     0.660   31      neg\n",
       "1         1       91        54       25      100  25.2     0.234   23      neg\n",
       "2         4      131        68       21      166  33.1     0.160   28      neg\n",
       "3         7      142        90       24      480  30.4     0.128   43      pos\n",
       "4         0       78        88       29       40  36.9     0.434   21      neg"
      ]
     },
     "execution_count": 71,
     "metadata": {},
     "output_type": "execute_result"
    }
   ],
   "source": [
    "pima_original.head()"
   ]
  },
  {
   "cell_type": "markdown",
   "id": "9379dab3-e44f-457f-ba48-edec0915b1f3",
   "metadata": {},
   "source": [
    "Pima"
   ]
  },
  {
   "cell_type": "code",
   "execution_count": 72,
   "id": "90654bd6-0110-4a0d-8060-4ffaab017c6d",
   "metadata": {},
   "outputs": [],
   "source": [
    "oracle_f1 = []\n",
    "arf_f1 = []\n",
    "axgb_f1 = []\n",
    "for i in range(len(oracle)):\n",
    "    oracle[i].fit(pima_original.iloc[:, :-1], pima_original.iloc[:, -1])\n",
    "    predictions = oracle[i].predict(pima_test.iloc[:, :-1])\n",
    "    f1 = f1_score(pima_test.iloc[:, -1], predictions, pos_label = 'pos')\n",
    "    oracle_f1.append(f1)\n",
    "    \n",
    "    arf_clf[i].fit(pima_arf.iloc[:, :-1], pima_arf.iloc[:, -1])\n",
    "    predictions = arf_clf[i].predict(pima_test.iloc[:, :-1])\n",
    "    f1 = f1_score(pima_test.iloc[:, -1], predictions, pos_label = 'pos')\n",
    "    arf_f1.append(f1)\n",
    "\n",
    "    axgb_clf[i].fit(pima_axgb.iloc[:, :-1], pima_axgb.iloc[:, -1])\n",
    "    predictions = axgb_clf[i].predict(pima_test.iloc[:, :-1])\n",
    "    f1 = f1_score(pima_test.iloc[:, -1], predictions, pos_label = 'pos')\n",
    "    axgb_f1.append(f1)"
   ]
  },
  {
   "cell_type": "code",
   "execution_count": 73,
   "id": "292e8f93-a5e2-4823-a6f1-8255f5a2d916",
   "metadata": {},
   "outputs": [
    {
     "name": "stdout",
     "output_type": "stream",
     "text": [
      "AxGB F1 average: 0.4278670603981496\n",
      "ARF F1 average: 0.44568192092949654\n",
      "Oracle F1 average: 0.4964657966302703\n"
     ]
    }
   ],
   "source": [
    "print(\"AxGB F1 average:\", np.mean(axgb_f1))\n",
    "print(\"ARF F1 average:\", np.mean(arf_f1))\n",
    "print(\"Oracle F1 average:\", np.mean(oracle_f1))"
   ]
  },
  {
   "cell_type": "markdown",
   "id": "bd496bd4-9512-40e6-a849-36d8d9c2ac2d",
   "metadata": {},
   "source": [
    "Breast Cancer"
   ]
  },
  {
   "cell_type": "code",
   "execution_count": 74,
   "id": "66aa5e9b-1342-4ee3-bfa4-10ced0f5abae",
   "metadata": {},
   "outputs": [
    {
     "name": "stderr",
     "output_type": "stream",
     "text": [
      "/home/binhducvu/anaconda3/lib/python3.9/site-packages/sklearn/neural_network/_multilayer_perceptron.py:692: ConvergenceWarning: Stochastic Optimizer: Maximum iterations (500) reached and the optimization hasn't converged yet.\n",
      "  warnings.warn(\n",
      "/home/binhducvu/anaconda3/lib/python3.9/site-packages/sklearn/neural_network/_multilayer_perceptron.py:692: ConvergenceWarning: Stochastic Optimizer: Maximum iterations (500) reached and the optimization hasn't converged yet.\n",
      "  warnings.warn(\n"
     ]
    }
   ],
   "source": [
    "oracle_f1 = []\n",
    "arf_f1 = []\n",
    "axgb_f1 = []\n",
    "for i in range(len(oracle)):\n",
    "    oracle[i].fit(breastcancer_original.iloc[:, :-1], breastcancer_original.iloc[:, -1])\n",
    "    predictions = oracle[i].predict(breastcancer_test.iloc[:, :-1])\n",
    "    f1 = f1_score(breastcancer_test.iloc[:, -1], predictions, pos_label = 'malignant')\n",
    "    oracle_f1.append(f1)\n",
    "    \n",
    "    arf_clf[i].fit(breastcancer_arf.iloc[:, :-1], breastcancer_arf.iloc[:, -1])\n",
    "    predictions = arf_clf[i].predict(breastcancer_test.iloc[:, :-1])\n",
    "    f1 = f1_score(breastcancer_test.iloc[:, -1], predictions, pos_label = 'malignant')\n",
    "    arf_f1.append(f1)\n",
    "\n",
    "    axgb_clf[i].fit(breastcancer_axgb.iloc[:, :-1], breastcancer_axgb.iloc[:, -1])\n",
    "    predictions = axgb_clf[i].predict(breastcancer_test.iloc[:, :-1])\n",
    "    f1 = f1_score(breastcancer_test.iloc[:, -1], predictions, pos_label = 'malignant')\n",
    "    axgb_f1.append(f1)"
   ]
  },
  {
   "cell_type": "code",
   "execution_count": 75,
   "id": "a23b2b62-05cf-44c3-85b9-31807210f46a",
   "metadata": {},
   "outputs": [
    {
     "name": "stdout",
     "output_type": "stream",
     "text": [
      "AxGB F1 average: 0.8148985912907813\n",
      "ARF F1 average: 0.9767176594143506\n",
      "Oracle F1 average: 0.9624914840911991\n"
     ]
    }
   ],
   "source": [
    "print(\"AxGB F1 average:\", np.mean(axgb_f1))\n",
    "print(\"ARF F1 average:\", np.mean(arf_f1))\n",
    "print(\"Oracle F1 average:\", np.mean(oracle_f1))"
   ]
  },
  {
   "cell_type": "markdown",
   "id": "544fc084-c7cf-45d9-9a9f-37ac74200755",
   "metadata": {},
   "source": [
    "Vowel"
   ]
  },
  {
   "cell_type": "code",
   "execution_count": 76,
   "id": "d9fa2ed3-5a3d-427b-9a01-bf0e87efd28a",
   "metadata": {},
   "outputs": [
    {
     "name": "stderr",
     "output_type": "stream",
     "text": [
      "/home/binhducvu/anaconda3/lib/python3.9/site-packages/sklearn/neural_network/_multilayer_perceptron.py:692: ConvergenceWarning: Stochastic Optimizer: Maximum iterations (500) reached and the optimization hasn't converged yet.\n",
      "  warnings.warn(\n",
      "/home/binhducvu/anaconda3/lib/python3.9/site-packages/sklearn/neural_network/_multilayer_perceptron.py:692: ConvergenceWarning: Stochastic Optimizer: Maximum iterations (500) reached and the optimization hasn't converged yet.\n",
      "  warnings.warn(\n",
      "/home/binhducvu/anaconda3/lib/python3.9/site-packages/sklearn/neural_network/_multilayer_perceptron.py:692: ConvergenceWarning: Stochastic Optimizer: Maximum iterations (500) reached and the optimization hasn't converged yet.\n",
      "  warnings.warn(\n"
     ]
    }
   ],
   "source": [
    "oracle_f1 = []\n",
    "arf_f1 = []\n",
    "axgb_f1 = []\n",
    "for i in range(len(oracle)):\n",
    "    oracle[i].fit(vowel_original.iloc[:, :-1], vowel_original.iloc[:, -1])\n",
    "    predictions = oracle[i].predict(vowel_test.iloc[:, :-1])\n",
    "    f1 = f1_score(vowel_test.iloc[:, -1], predictions, average = 'weighted')\n",
    "    oracle_f1.append(f1)\n",
    "    \n",
    "    arf_clf[i].fit(vowel_arf.iloc[:, :-1], vowel_arf.iloc[:, -1])\n",
    "    predictions = arf_clf[i].predict(vowel_test.iloc[:, :-1])\n",
    "    f1 = f1_score(vowel_test.iloc[:, -1], predictions, average = 'weighted')\n",
    "    arf_f1.append(f1)\n",
    "\n",
    "    axgb_clf[i].fit(vowel_axgb.iloc[:, :-1], vowel_axgb.iloc[:, -1])\n",
    "    predictions = axgb_clf[i].predict(vowel_test.iloc[:, :-1])\n",
    "    f1 = f1_score(vowel_test.iloc[:, -1], predictions, average = 'weighted')\n",
    "    axgb_f1.append(f1)"
   ]
  },
  {
   "cell_type": "code",
   "execution_count": 77,
   "id": "57c2252e-430b-4c1a-b4b4-7df847a3d7e1",
   "metadata": {},
   "outputs": [
    {
     "name": "stdout",
     "output_type": "stream",
     "text": [
      "AxGB F1 average: 0.1884939081013471\n",
      "ARF F1 average: 0.36264868330141764\n",
      "Oracle F1 average: 0.5429671497425808\n"
     ]
    }
   ],
   "source": [
    "print(\"AxGB F1 average:\", np.mean(axgb_f1))\n",
    "print(\"ARF F1 average:\", np.mean(arf_f1))\n",
    "print(\"Oracle F1 average:\", np.mean(oracle_f1))"
   ]
  },
  {
   "cell_type": "markdown",
   "id": "28abfce1-969e-4b9b-948d-cf82ef682797",
   "metadata": {},
   "source": [
    "Wine Quality"
   ]
  },
  {
   "cell_type": "code",
   "execution_count": 88,
   "id": "daf0f889-152a-4605-ad1d-6fa64409f8ca",
   "metadata": {},
   "outputs": [
    {
     "name": "stderr",
     "output_type": "stream",
     "text": [
      "/home/binhducvu/anaconda3/lib/python3.9/site-packages/sklearn/base.py:493: FutureWarning: The feature names should match those that were passed during fit. Starting version 1.2, an error will be raised.\n",
      "Feature names unseen at fit time:\n",
      "- citric acid\n",
      "- fixed acidity\n",
      "- free sulfur dioxide\n",
      "- residual sugar\n",
      "- total sulfur dioxide\n",
      "- ...\n",
      "Feature names seen at fit time, yet now missing:\n",
      "- citric.acid\n",
      "- fixed.acidity\n",
      "- free.sulfur.dioxide\n",
      "- residual.sugar\n",
      "- total.sulfur.dioxide\n",
      "- ...\n",
      "\n",
      "  warnings.warn(message, FutureWarning)\n",
      "/home/binhducvu/anaconda3/lib/python3.9/site-packages/sklearn/base.py:493: FutureWarning: The feature names should match those that were passed during fit. Starting version 1.2, an error will be raised.\n",
      "Feature names unseen at fit time:\n",
      "- citric acid\n",
      "- fixed acidity\n",
      "- free sulfur dioxide\n",
      "- residual sugar\n",
      "- total sulfur dioxide\n",
      "- ...\n",
      "Feature names seen at fit time, yet now missing:\n",
      "- citric.acid\n",
      "- fixed.acidity\n",
      "- free.sulfur.dioxide\n",
      "- residual.sugar\n",
      "- total.sulfur.dioxide\n",
      "- ...\n",
      "\n",
      "  warnings.warn(message, FutureWarning)\n",
      "/home/binhducvu/anaconda3/lib/python3.9/site-packages/sklearn/base.py:493: FutureWarning: The feature names should match those that were passed during fit. Starting version 1.2, an error will be raised.\n",
      "Feature names unseen at fit time:\n",
      "- citric acid\n",
      "- fixed acidity\n",
      "- free sulfur dioxide\n",
      "- residual sugar\n",
      "- total sulfur dioxide\n",
      "- ...\n",
      "Feature names seen at fit time, yet now missing:\n",
      "- citric.acid\n",
      "- fixed.acidity\n",
      "- free.sulfur.dioxide\n",
      "- residual.sugar\n",
      "- total.sulfur.dioxide\n",
      "- ...\n",
      "\n",
      "  warnings.warn(message, FutureWarning)\n",
      "/home/binhducvu/anaconda3/lib/python3.9/site-packages/sklearn/base.py:493: FutureWarning: The feature names should match those that were passed during fit. Starting version 1.2, an error will be raised.\n",
      "Feature names unseen at fit time:\n",
      "- citric acid\n",
      "- fixed acidity\n",
      "- free sulfur dioxide\n",
      "- residual sugar\n",
      "- total sulfur dioxide\n",
      "- ...\n",
      "Feature names seen at fit time, yet now missing:\n",
      "- citric.acid\n",
      "- fixed.acidity\n",
      "- free.sulfur.dioxide\n",
      "- residual.sugar\n",
      "- total.sulfur.dioxide\n",
      "- ...\n",
      "\n",
      "  warnings.warn(message, FutureWarning)\n"
     ]
    }
   ],
   "source": [
    "oracle_f1 = []\n",
    "arf_f1 = []\n",
    "axgb_f1 = []\n",
    "for i in range(len(oracle)):\n",
    "    oracle[i].fit(wine_quality_original.iloc[:, :-1], wine_quality_original.iloc[:, -1])\n",
    "    predictions = oracle[i].predict(wine_quality_test.iloc[:, :-1])\n",
    "    f1 = f1_score(wine_quality_test.iloc[:, -1], predictions, average = 'weighted')\n",
    "    oracle_f1.append(f1)\n",
    "    \n",
    "    arf_clf[i].fit(wine_quality_arf.iloc[:, :-1], wine_quality_arf.iloc[:, -1])\n",
    "    predictions = arf_clf[i].predict(wine_quality_test.iloc[:, :-1])\n",
    "    f1 = f1_score(wine_quality_test.iloc[:, -1], predictions, average = 'weighted')\n",
    "    arf_f1.append(f1)\n",
    "\n",
    "    axgb_clf[i].fit(wine_quality_axgb.iloc[:, :-1], wine_quality_axgb.iloc[:, -1])\n",
    "    predictions = axgb_clf[i].predict(wine_quality_test.iloc[:, :-1])\n",
    "    f1 = f1_score(wine_quality_test.iloc[:, -1], predictions, average = 'weighted')\n",
    "    axgb_f1.append(f1)"
   ]
  },
  {
   "cell_type": "code",
   "execution_count": 90,
   "id": "83927f49-9640-4234-a719-23b1aee1ee95",
   "metadata": {},
   "outputs": [
    {
     "name": "stdout",
     "output_type": "stream",
     "text": [
      "AxGB F1 average: 0.3704335097769636\n",
      "ARF F1 average: 0.38021471503284754\n",
      "Oracle F1 average: 0.3901844615015306\n"
     ]
    }
   ],
   "source": [
    "print(\"AxGB F1 average:\", np.mean(axgb_f1))\n",
    "print(\"ARF F1 average:\", np.mean(arf_f1))\n",
    "print(\"Oracle F1 average:\", np.mean(oracle_f1))"
   ]
  },
  {
   "cell_type": "code",
   "execution_count": 93,
   "id": "d81278bb-3d60-4c66-978c-471ee5ffd396",
   "metadata": {},
   "outputs": [],
   "source": [
    "oracle_f1 = []\n",
    "arf_f1 = []\n",
    "axgb_f1 = []\n",
    "for i in range(len(oracle)):\n",
    "    oracle[i].fit(dry_bean_original.iloc[:, :-1], dry_bean_original.iloc[:, -1])\n",
    "    predictions = oracle[i].predict(dry_bean_test.iloc[:, :-1])\n",
    "    f1 = f1_score(dry_bean_test.iloc[:, -1], predictions, average = 'weighted')\n",
    "    oracle_f1.append(f1)\n",
    "    \n",
    "    arf_clf[i].fit(dry_bean_arf.iloc[:, :-1], dry_bean_arf.iloc[:, -1])\n",
    "    predictions = arf_clf[i].predict(dry_bean_test.iloc[:, :-1])\n",
    "    f1 = f1_score(dry_bean_test.iloc[:, -1], predictions, average = 'weighted')\n",
    "    arf_f1.append(f1)\n",
    "\n",
    "    axgb_clf[i].fit(dry_bean_axgb.iloc[:, :-1], dry_bean_axgb.iloc[:, -1])\n",
    "    predictions = axgb_clf[i].predict(dry_bean_test.iloc[:, :-1])\n",
    "    f1 = f1_score(dry_bean_test.iloc[:, -1], predictions, average = 'weighted')\n",
    "    axgb_f1.append(f1)"
   ]
  },
  {
   "cell_type": "code",
   "execution_count": 94,
   "id": "bef8a9d0-4f6f-4920-810f-e055797e6011",
   "metadata": {},
   "outputs": [
    {
     "name": "stdout",
     "output_type": "stream",
     "text": [
      "AxGB F1 average: 0.5507088465400491\n",
      "ARF F1 average: 0.66154441572249\n",
      "Oracle F1 average: 0.6496215117961075\n"
     ]
    }
   ],
   "source": [
    "print(\"AxGB F1 average:\", np.mean(axgb_f1))\n",
    "print(\"ARF F1 average:\", np.mean(arf_f1))\n",
    "print(\"Oracle F1 average:\", np.mean(oracle_f1))"
   ]
  },
  {
   "cell_type": "code",
   "execution_count": null,
   "id": "3ebd209a-99b1-4cb7-a6d6-d3b21a757065",
   "metadata": {},
   "outputs": [],
   "source": []
  }
 ],
 "metadata": {
  "kernelspec": {
   "display_name": "Python 3 (ipykernel)",
   "language": "python",
   "name": "python3"
  },
  "language_info": {
   "codemirror_mode": {
    "name": "ipython",
    "version": 3
   },
   "file_extension": ".py",
   "mimetype": "text/x-python",
   "name": "python",
   "nbconvert_exporter": "python",
   "pygments_lexer": "ipython3",
   "version": "3.9.15"
  }
 },
 "nbformat": 4,
 "nbformat_minor": 5
}
