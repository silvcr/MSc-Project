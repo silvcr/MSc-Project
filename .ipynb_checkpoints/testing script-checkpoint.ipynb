{
 "cells": [
  {
   "cell_type": "code",
   "execution_count": 109,
   "id": "6aeccfd3-64de-409e-adba-1604a1953819",
   "metadata": {},
   "outputs": [],
   "source": [
    "from sklearn.ensemble import AdaBoostClassifier, RandomForestClassifier\n",
    "import xgboost as xgb\n",
    "from sklearn.tree import DecisionTreeClassifier\n",
    "from sklearn.linear_model import LogisticRegression\n",
    "from sklearn.neural_network import MLPClassifier\n",
    "from sklearn.metrics import f1_score\n",
    "import pandas as pd\n",
    "import numpy as np"
   ]
  },
  {
   "cell_type": "code",
   "execution_count": 110,
   "id": "4bb0c3d1-5a2e-49ab-b900-07c20cb331c3",
   "metadata": {},
   "outputs": [],
   "source": [
    "pima_synth = pd.read_csv(\"axgb_data/pima_train.csv\")\n",
    "pima = pd.read_csv(\"original_data/pima_train.csv\")\n",
    "test = pd.read_csv(\"original_data/pima_test.csv\")"
   ]
  },
  {
   "cell_type": "code",
   "execution_count": 111,
   "id": "fda4a625-8a3e-485d-8efa-12052559417e",
   "metadata": {},
   "outputs": [],
   "source": [
    "first = AdaBoostClassifier(n_estimators = 50)\n",
    "second = AdaBoostClassifier(n_estimators = 50)"
   ]
  },
  {
   "cell_type": "code",
   "execution_count": 112,
   "id": "4cf402d6-5a32-4dca-967a-4cbd65d7cec9",
   "metadata": {},
   "outputs": [
    {
     "data": {
      "text/plain": [
       "AdaBoostClassifier()"
      ]
     },
     "execution_count": 112,
     "metadata": {},
     "output_type": "execute_result"
    }
   ],
   "source": [
    "first.fit(pima_synth.iloc[:, :-1], pima_synth.iloc[:, -1])"
   ]
  },
  {
   "cell_type": "code",
   "execution_count": 113,
   "id": "b1dbb4f8-5c34-4ecb-b6c6-fa854654e006",
   "metadata": {},
   "outputs": [
    {
     "data": {
      "text/plain": [
       "AdaBoostClassifier()"
      ]
     },
     "execution_count": 113,
     "metadata": {},
     "output_type": "execute_result"
    }
   ],
   "source": [
    "second.fit(pima.iloc[:, :-1], pima.iloc[:, -1])"
   ]
  },
  {
   "cell_type": "code",
   "execution_count": 114,
   "id": "5da6a432-8d5e-4f0d-bc15-28916bbc9138",
   "metadata": {},
   "outputs": [
    {
     "data": {
      "text/plain": [
       "0.7337662337662337"
      ]
     },
     "execution_count": 114,
     "metadata": {},
     "output_type": "execute_result"
    }
   ],
   "source": [
    "second.score(test.iloc[:, :-1], test.iloc[:, -1])"
   ]
  },
  {
   "cell_type": "code",
   "execution_count": 115,
   "id": "d847ea4d-a8d7-45a0-be01-d4eece132619",
   "metadata": {},
   "outputs": [
    {
     "data": {
      "text/plain": [
       "0.7272727272727273"
      ]
     },
     "execution_count": 115,
     "metadata": {},
     "output_type": "execute_result"
    }
   ],
   "source": [
    "first.score(test.iloc[:, :-1], test.iloc[:, -1])"
   ]
  },
  {
   "cell_type": "code",
   "execution_count": 116,
   "id": "e4318673-c2ba-4ab6-8c48-95d6ed5b889d",
   "metadata": {},
   "outputs": [
    {
     "data": {
      "text/html": [
       "<div>\n",
       "<style scoped>\n",
       "    .dataframe tbody tr th:only-of-type {\n",
       "        vertical-align: middle;\n",
       "    }\n",
       "\n",
       "    .dataframe tbody tr th {\n",
       "        vertical-align: top;\n",
       "    }\n",
       "\n",
       "    .dataframe thead th {\n",
       "        text-align: right;\n",
       "    }\n",
       "</style>\n",
       "<table border=\"1\" class=\"dataframe\">\n",
       "  <thead>\n",
       "    <tr style=\"text-align: right;\">\n",
       "      <th></th>\n",
       "      <th>pregnant</th>\n",
       "      <th>glucose</th>\n",
       "      <th>pressure</th>\n",
       "      <th>triceps</th>\n",
       "      <th>insulin</th>\n",
       "      <th>mass</th>\n",
       "      <th>pedigree</th>\n",
       "      <th>age</th>\n",
       "    </tr>\n",
       "  </thead>\n",
       "  <tbody>\n",
       "    <tr>\n",
       "      <th>count</th>\n",
       "      <td>614.000000</td>\n",
       "      <td>614.000000</td>\n",
       "      <td>614.000000</td>\n",
       "      <td>614.000000</td>\n",
       "      <td>6.140000e+02</td>\n",
       "      <td>614.000000</td>\n",
       "      <td>614.000000</td>\n",
       "      <td>614.000000</td>\n",
       "    </tr>\n",
       "    <tr>\n",
       "      <th>mean</th>\n",
       "      <td>4.597664</td>\n",
       "      <td>119.485405</td>\n",
       "      <td>68.738721</td>\n",
       "      <td>13.027144</td>\n",
       "      <td>3.627222e+01</td>\n",
       "      <td>30.898450</td>\n",
       "      <td>0.482998</td>\n",
       "      <td>33.465077</td>\n",
       "    </tr>\n",
       "    <tr>\n",
       "      <th>std</th>\n",
       "      <td>2.403363</td>\n",
       "      <td>27.931139</td>\n",
       "      <td>14.136373</td>\n",
       "      <td>13.715046</td>\n",
       "      <td>6.775995e+01</td>\n",
       "      <td>5.940868</td>\n",
       "      <td>0.289051</td>\n",
       "      <td>10.064058</td>\n",
       "    </tr>\n",
       "    <tr>\n",
       "      <th>min</th>\n",
       "      <td>-0.514558</td>\n",
       "      <td>64.990892</td>\n",
       "      <td>34.842911</td>\n",
       "      <td>-0.002541</td>\n",
       "      <td>-3.877221e-08</td>\n",
       "      <td>17.904147</td>\n",
       "      <td>0.090384</td>\n",
       "      <td>21.005281</td>\n",
       "    </tr>\n",
       "    <tr>\n",
       "      <th>25%</th>\n",
       "      <td>3.102137</td>\n",
       "      <td>99.318247</td>\n",
       "      <td>63.543559</td>\n",
       "      <td>0.000955</td>\n",
       "      <td>-1.196482e-08</td>\n",
       "      <td>26.594647</td>\n",
       "      <td>0.236623</td>\n",
       "      <td>27.956998</td>\n",
       "    </tr>\n",
       "    <tr>\n",
       "      <th>50%</th>\n",
       "      <td>4.410628</td>\n",
       "      <td>111.569285</td>\n",
       "      <td>71.123547</td>\n",
       "      <td>7.762250</td>\n",
       "      <td>8.693007e-09</td>\n",
       "      <td>31.416741</td>\n",
       "      <td>0.433804</td>\n",
       "      <td>32.339071</td>\n",
       "    </tr>\n",
       "    <tr>\n",
       "      <th>75%</th>\n",
       "      <td>6.522267</td>\n",
       "      <td>134.242317</td>\n",
       "      <td>81.239344</td>\n",
       "      <td>23.392671</td>\n",
       "      <td>3.411731e+01</td>\n",
       "      <td>35.486250</td>\n",
       "      <td>0.678672</td>\n",
       "      <td>36.346949</td>\n",
       "    </tr>\n",
       "    <tr>\n",
       "      <th>max</th>\n",
       "      <td>10.797041</td>\n",
       "      <td>173.418652</td>\n",
       "      <td>87.732681</td>\n",
       "      <td>44.370893</td>\n",
       "      <td>1.999138e+02</td>\n",
       "      <td>41.950016</td>\n",
       "      <td>1.445096</td>\n",
       "      <td>59.412273</td>\n",
       "    </tr>\n",
       "  </tbody>\n",
       "</table>\n",
       "</div>"
      ],
      "text/plain": [
       "         pregnant     glucose    pressure     triceps       insulin  \\\n",
       "count  614.000000  614.000000  614.000000  614.000000  6.140000e+02   \n",
       "mean     4.597664  119.485405   68.738721   13.027144  3.627222e+01   \n",
       "std      2.403363   27.931139   14.136373   13.715046  6.775995e+01   \n",
       "min     -0.514558   64.990892   34.842911   -0.002541 -3.877221e-08   \n",
       "25%      3.102137   99.318247   63.543559    0.000955 -1.196482e-08   \n",
       "50%      4.410628  111.569285   71.123547    7.762250  8.693007e-09   \n",
       "75%      6.522267  134.242317   81.239344   23.392671  3.411731e+01   \n",
       "max     10.797041  173.418652   87.732681   44.370893  1.999138e+02   \n",
       "\n",
       "             mass    pedigree         age  \n",
       "count  614.000000  614.000000  614.000000  \n",
       "mean    30.898450    0.482998   33.465077  \n",
       "std      5.940868    0.289051   10.064058  \n",
       "min     17.904147    0.090384   21.005281  \n",
       "25%     26.594647    0.236623   27.956998  \n",
       "50%     31.416741    0.433804   32.339071  \n",
       "75%     35.486250    0.678672   36.346949  \n",
       "max     41.950016    1.445096   59.412273  "
      ]
     },
     "execution_count": 116,
     "metadata": {},
     "output_type": "execute_result"
    }
   ],
   "source": [
    "pima_synth.describe()"
   ]
  },
  {
   "cell_type": "code",
   "execution_count": 117,
   "id": "2c432c21-e111-485a-8336-662d661744ec",
   "metadata": {},
   "outputs": [
    {
     "data": {
      "text/html": [
       "<div>\n",
       "<style scoped>\n",
       "    .dataframe tbody tr th:only-of-type {\n",
       "        vertical-align: middle;\n",
       "    }\n",
       "\n",
       "    .dataframe tbody tr th {\n",
       "        vertical-align: top;\n",
       "    }\n",
       "\n",
       "    .dataframe thead th {\n",
       "        text-align: right;\n",
       "    }\n",
       "</style>\n",
       "<table border=\"1\" class=\"dataframe\">\n",
       "  <thead>\n",
       "    <tr style=\"text-align: right;\">\n",
       "      <th></th>\n",
       "      <th>pregnant</th>\n",
       "      <th>glucose</th>\n",
       "      <th>pressure</th>\n",
       "      <th>triceps</th>\n",
       "      <th>insulin</th>\n",
       "      <th>mass</th>\n",
       "      <th>pedigree</th>\n",
       "      <th>age</th>\n",
       "    </tr>\n",
       "  </thead>\n",
       "  <tbody>\n",
       "    <tr>\n",
       "      <th>count</th>\n",
       "      <td>614.000000</td>\n",
       "      <td>614.000000</td>\n",
       "      <td>614.000000</td>\n",
       "      <td>614.000000</td>\n",
       "      <td>614.000000</td>\n",
       "      <td>614.000000</td>\n",
       "      <td>614.000000</td>\n",
       "      <td>614.000000</td>\n",
       "    </tr>\n",
       "    <tr>\n",
       "      <th>mean</th>\n",
       "      <td>3.884365</td>\n",
       "      <td>121.724756</td>\n",
       "      <td>69.102606</td>\n",
       "      <td>20.579805</td>\n",
       "      <td>79.315961</td>\n",
       "      <td>31.972476</td>\n",
       "      <td>0.484433</td>\n",
       "      <td>33.522801</td>\n",
       "    </tr>\n",
       "    <tr>\n",
       "      <th>std</th>\n",
       "      <td>3.395802</td>\n",
       "      <td>32.335428</td>\n",
       "      <td>19.338765</td>\n",
       "      <td>16.271934</td>\n",
       "      <td>113.455820</td>\n",
       "      <td>8.024199</td>\n",
       "      <td>0.337869</td>\n",
       "      <td>11.995593</td>\n",
       "    </tr>\n",
       "    <tr>\n",
       "      <th>min</th>\n",
       "      <td>0.000000</td>\n",
       "      <td>0.000000</td>\n",
       "      <td>0.000000</td>\n",
       "      <td>0.000000</td>\n",
       "      <td>0.000000</td>\n",
       "      <td>0.000000</td>\n",
       "      <td>0.078000</td>\n",
       "      <td>21.000000</td>\n",
       "    </tr>\n",
       "    <tr>\n",
       "      <th>25%</th>\n",
       "      <td>1.000000</td>\n",
       "      <td>100.000000</td>\n",
       "      <td>62.500000</td>\n",
       "      <td>0.000000</td>\n",
       "      <td>0.000000</td>\n",
       "      <td>27.100000</td>\n",
       "      <td>0.247000</td>\n",
       "      <td>24.000000</td>\n",
       "    </tr>\n",
       "    <tr>\n",
       "      <th>50%</th>\n",
       "      <td>3.000000</td>\n",
       "      <td>118.000000</td>\n",
       "      <td>72.000000</td>\n",
       "      <td>23.000000</td>\n",
       "      <td>16.500000</td>\n",
       "      <td>32.050000</td>\n",
       "      <td>0.381500</td>\n",
       "      <td>29.000000</td>\n",
       "    </tr>\n",
       "    <tr>\n",
       "      <th>75%</th>\n",
       "      <td>6.000000</td>\n",
       "      <td>142.000000</td>\n",
       "      <td>80.000000</td>\n",
       "      <td>33.000000</td>\n",
       "      <td>130.000000</td>\n",
       "      <td>36.750000</td>\n",
       "      <td>0.653500</td>\n",
       "      <td>41.000000</td>\n",
       "    </tr>\n",
       "    <tr>\n",
       "      <th>max</th>\n",
       "      <td>17.000000</td>\n",
       "      <td>199.000000</td>\n",
       "      <td>122.000000</td>\n",
       "      <td>99.000000</td>\n",
       "      <td>846.000000</td>\n",
       "      <td>67.100000</td>\n",
       "      <td>2.420000</td>\n",
       "      <td>81.000000</td>\n",
       "    </tr>\n",
       "  </tbody>\n",
       "</table>\n",
       "</div>"
      ],
      "text/plain": [
       "         pregnant     glucose    pressure     triceps     insulin        mass  \\\n",
       "count  614.000000  614.000000  614.000000  614.000000  614.000000  614.000000   \n",
       "mean     3.884365  121.724756   69.102606   20.579805   79.315961   31.972476   \n",
       "std      3.395802   32.335428   19.338765   16.271934  113.455820    8.024199   \n",
       "min      0.000000    0.000000    0.000000    0.000000    0.000000    0.000000   \n",
       "25%      1.000000  100.000000   62.500000    0.000000    0.000000   27.100000   \n",
       "50%      3.000000  118.000000   72.000000   23.000000   16.500000   32.050000   \n",
       "75%      6.000000  142.000000   80.000000   33.000000  130.000000   36.750000   \n",
       "max     17.000000  199.000000  122.000000   99.000000  846.000000   67.100000   \n",
       "\n",
       "         pedigree         age  \n",
       "count  614.000000  614.000000  \n",
       "mean     0.484433   33.522801  \n",
       "std      0.337869   11.995593  \n",
       "min      0.078000   21.000000  \n",
       "25%      0.247000   24.000000  \n",
       "50%      0.381500   29.000000  \n",
       "75%      0.653500   41.000000  \n",
       "max      2.420000   81.000000  "
      ]
     },
     "execution_count": 117,
     "metadata": {},
     "output_type": "execute_result"
    }
   ],
   "source": [
    "pima.describe()"
   ]
  },
  {
   "cell_type": "code",
   "execution_count": null,
   "id": "80e163af-9127-4bbc-b3f9-bdd34e64907f",
   "metadata": {},
   "outputs": [],
   "source": []
  },
  {
   "cell_type": "code",
   "execution_count": null,
   "id": "8e98545f-d67e-4954-89a4-007c4a0ad2dc",
   "metadata": {},
   "outputs": [],
   "source": []
  }
 ],
 "metadata": {
  "kernelspec": {
   "display_name": "Python 3 (ipykernel)",
   "language": "python",
   "name": "python3"
  },
  "language_info": {
   "codemirror_mode": {
    "name": "ipython",
    "version": 3
   },
   "file_extension": ".py",
   "mimetype": "text/x-python",
   "name": "python",
   "nbconvert_exporter": "python",
   "pygments_lexer": "ipython3",
   "version": "3.9.15"
  }
 },
 "nbformat": 4,
 "nbformat_minor": 5
}
