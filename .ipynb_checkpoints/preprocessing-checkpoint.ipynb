{
 "cells": [
  {
   "cell_type": "code",
   "execution_count": 2,
   "id": "aa8cb5ac-5730-40c8-b9ae-2b360f3443c7",
   "metadata": {},
   "outputs": [],
   "source": [
    "import pandas as pd\n",
    "import numpy as np\n",
    "from sklearn.model_selection import train_test_split\n"
   ]
  },
  {
   "cell_type": "code",
   "execution_count": 29,
   "id": "6f78841c-0d18-406e-9638-9a918763e647",
   "metadata": {},
   "outputs": [],
   "source": [
    "breastcancer = pd.read_csv(\"original_data/breastcancer.csv\", index_col = 0)\n",
    "pima = pd.read_csv(\"original_data/pima.csv\", index_col = 0)\n",
    "vowel = pd.read_csv(\"original_data/vowel.csv\", index_col = 0)\n",
    "abalone = pd.read_csv(\"original_data/abalone.data\", header=None)\n",
    "dry_bean = pd.read_excel(\"original_data/dry_bean.xlsx\")\n",
    "wine_quality = pd.read_csv(\"original_data/wine_quality_white.csv\", sep = ';')"
   ]
  },
  {
   "cell_type": "code",
   "execution_count": 30,
   "id": "fb3fff86-b74b-470a-9644-c673df7106f9",
   "metadata": {},
   "outputs": [
    {
     "data": {
      "text/html": [
       "<div>\n",
       "<style scoped>\n",
       "    .dataframe tbody tr th:only-of-type {\n",
       "        vertical-align: middle;\n",
       "    }\n",
       "\n",
       "    .dataframe tbody tr th {\n",
       "        vertical-align: top;\n",
       "    }\n",
       "\n",
       "    .dataframe thead th {\n",
       "        text-align: right;\n",
       "    }\n",
       "</style>\n",
       "<table border=\"1\" class=\"dataframe\">\n",
       "  <thead>\n",
       "    <tr style=\"text-align: right;\">\n",
       "      <th></th>\n",
       "      <th>Id</th>\n",
       "      <th>Cl.thickness</th>\n",
       "      <th>Cell.size</th>\n",
       "      <th>Cell.shape</th>\n",
       "      <th>Marg.adhesion</th>\n",
       "      <th>Epith.c.size</th>\n",
       "      <th>Bare.nuclei</th>\n",
       "      <th>Bl.cromatin</th>\n",
       "      <th>Normal.nucleoli</th>\n",
       "      <th>Mitoses</th>\n",
       "      <th>Class</th>\n",
       "    </tr>\n",
       "  </thead>\n",
       "  <tbody>\n",
       "    <tr>\n",
       "      <th>1</th>\n",
       "      <td>1000025</td>\n",
       "      <td>5</td>\n",
       "      <td>1</td>\n",
       "      <td>1</td>\n",
       "      <td>1</td>\n",
       "      <td>2</td>\n",
       "      <td>1.0</td>\n",
       "      <td>3</td>\n",
       "      <td>1</td>\n",
       "      <td>1</td>\n",
       "      <td>benign</td>\n",
       "    </tr>\n",
       "    <tr>\n",
       "      <th>2</th>\n",
       "      <td>1002945</td>\n",
       "      <td>5</td>\n",
       "      <td>4</td>\n",
       "      <td>4</td>\n",
       "      <td>5</td>\n",
       "      <td>7</td>\n",
       "      <td>10.0</td>\n",
       "      <td>3</td>\n",
       "      <td>2</td>\n",
       "      <td>1</td>\n",
       "      <td>benign</td>\n",
       "    </tr>\n",
       "    <tr>\n",
       "      <th>3</th>\n",
       "      <td>1015425</td>\n",
       "      <td>3</td>\n",
       "      <td>1</td>\n",
       "      <td>1</td>\n",
       "      <td>1</td>\n",
       "      <td>2</td>\n",
       "      <td>2.0</td>\n",
       "      <td>3</td>\n",
       "      <td>1</td>\n",
       "      <td>1</td>\n",
       "      <td>benign</td>\n",
       "    </tr>\n",
       "    <tr>\n",
       "      <th>4</th>\n",
       "      <td>1016277</td>\n",
       "      <td>6</td>\n",
       "      <td>8</td>\n",
       "      <td>8</td>\n",
       "      <td>1</td>\n",
       "      <td>3</td>\n",
       "      <td>4.0</td>\n",
       "      <td>3</td>\n",
       "      <td>7</td>\n",
       "      <td>1</td>\n",
       "      <td>benign</td>\n",
       "    </tr>\n",
       "    <tr>\n",
       "      <th>5</th>\n",
       "      <td>1017023</td>\n",
       "      <td>4</td>\n",
       "      <td>1</td>\n",
       "      <td>1</td>\n",
       "      <td>3</td>\n",
       "      <td>2</td>\n",
       "      <td>1.0</td>\n",
       "      <td>3</td>\n",
       "      <td>1</td>\n",
       "      <td>1</td>\n",
       "      <td>benign</td>\n",
       "    </tr>\n",
       "  </tbody>\n",
       "</table>\n",
       "</div>"
      ],
      "text/plain": [
       "        Id  Cl.thickness  Cell.size  Cell.shape  Marg.adhesion  Epith.c.size  \\\n",
       "1  1000025             5          1           1              1             2   \n",
       "2  1002945             5          4           4              5             7   \n",
       "3  1015425             3          1           1              1             2   \n",
       "4  1016277             6          8           8              1             3   \n",
       "5  1017023             4          1           1              3             2   \n",
       "\n",
       "   Bare.nuclei  Bl.cromatin  Normal.nucleoli  Mitoses   Class  \n",
       "1          1.0            3                1        1  benign  \n",
       "2         10.0            3                2        1  benign  \n",
       "3          2.0            3                1        1  benign  \n",
       "4          4.0            3                7        1  benign  \n",
       "5          1.0            3                1        1  benign  "
      ]
     },
     "execution_count": 30,
     "metadata": {},
     "output_type": "execute_result"
    }
   ],
   "source": [
    "breastcancer.head()"
   ]
  },
  {
   "cell_type": "code",
   "execution_count": 31,
   "id": "608284a6-a9d7-44f4-8741-89b13acad024",
   "metadata": {},
   "outputs": [],
   "source": [
    "breastcancer = breastcancer.drop('Id', axis = 1)\n",
    "breastcancer = breastcancer.dropna()\n",
    "breastcancer = breastcancer.sample(frac = 1)\n",
    "breastcancer = breastcancer.reset_index().drop('index', axis = 1)\n",
    "train, test = np.split(breastcancer, [int(0.8 * len(breastcancer))])\n",
    "\n",
    "train.to_csv(\"original_data/breastcancer_train.csv\", index=False)\n",
    "test.to_csv(\"original_data/breastcancer_test.csv\", index=False)"
   ]
  },
  {
   "cell_type": "code",
   "execution_count": 32,
   "id": "dc4e5ed3-f4b5-43a2-8156-b10d107f0216",
   "metadata": {},
   "outputs": [],
   "source": [
    "diamonds = diamonds.dropna()\n",
    "diamonds = diamonds.sample(frac = 1).reset_index().drop('index', axis = 1)\n",
    "train, test = np.split(diamonds, [int(0.8 * len(diamonds))])\n",
    "train.to_csv(\"original_data/diamonds_train.csv\", index=False)\n",
    "test.to_csv(\"original_data/diamonds_test.csv\", index=False)"
   ]
  },
  {
   "cell_type": "code",
   "execution_count": 33,
   "id": "dc9e925d-cc96-4bb3-a82d-cefea8214913",
   "metadata": {},
   "outputs": [],
   "source": [
    "pima = pima.dropna()\n",
    "pima = pima.sample(frac = 1).reset_index().drop('index', axis = 1)\n",
    "train, test = np.split(pima, [int(0.8 * len(pima))])\n",
    "train.to_csv(\"original_data/pima_train.csv\", index=False)\n",
    "test.to_csv(\"original_data/pima_test.csv\", index=False)"
   ]
  },
  {
   "cell_type": "code",
   "execution_count": 34,
   "id": "899802cd-10f0-46f1-b59f-f415b4c8437b",
   "metadata": {},
   "outputs": [],
   "source": [
    "shuttle = shuttle.dropna()\n",
    "shuttle = shuttle.sample(frac = 1).reset_index().drop('index', axis = 1)\n",
    "train, test = np.split(shuttle, [int(0.8 * len(shuttle))])\n",
    "train.to_csv(\"original_data/shuttle_train.csv\", index=False)\n",
    "test.to_csv(\"original_data/shuttle_test.csv\", index=False)"
   ]
  },
  {
   "cell_type": "code",
   "execution_count": 35,
   "id": "058fe135-3504-4e45-b096-32f70f2c6be8",
   "metadata": {},
   "outputs": [],
   "source": [
    "vowel = vowel.dropna()\n",
    "vowel = vowel.sample(frac = 1).reset_index().drop('index', axis = 1)\n",
    "train, test = np.split(vowel, [int(0.8 * len(vowel))])\n",
    "train.to_csv(\"original_data/vowel_train.csv\", index=False)\n",
    "test.to_csv(\"original_data/vowel_test.csv\", index=False)"
   ]
  },
  {
   "cell_type": "code",
   "execution_count": 36,
   "id": "2c2dd8d1-35e7-4a26-9c00-65385aa3206d",
   "metadata": {},
   "outputs": [],
   "source": [
    "abalone.columns = ['Sex', 'Length', 'Diameter', 'Height', \n",
    "                   'Whole weight', 'Shucked weight', 'Viscera weight',\n",
    "                   'Shell weight', 'Rings']\n",
    "abalone = abalone.dropna()\n",
    "abalone = abalone.sample(frac = 1).reset_index().drop('index', axis = 1)\n",
    "train, test = np.split(abalone, [int(0.8 * len(abalone))])\n",
    "train.to_csv(\"original_data/abalone_train.csv\", index=False)\n",
    "test.to_csv(\"original_data/abalone_test.csv\", index=False)"
   ]
  },
  {
   "cell_type": "code",
   "execution_count": 37,
   "id": "30a535d9-2aa1-423d-81be-744211afa4b9",
   "metadata": {},
   "outputs": [],
   "source": [
    "dry_bean = dry_bean.dropna()\n",
    "dry_bean = dry_bean.sample(frac = 1).reset_index().drop('index', axis = 1)\n",
    "train, test = np.split(dry_bean, [int(0.8 * len(dry_bean))])\n",
    "train.to_csv(\"original_data/dry_bean_train.csv\", index=False)\n",
    "test.to_csv(\"original_data/dry_bean_test.csv\", index=False)"
   ]
  },
  {
   "cell_type": "code",
   "execution_count": 39,
   "id": "1d75ba19-10ff-4101-a2c1-4dc0029f8c64",
   "metadata": {},
   "outputs": [],
   "source": [
    "wine_quality = wine_quality.dropna()\n",
    "wine_quality = wine_quality.sample(frac = 1).reset_index().drop('index', axis = 1)\n",
    "train, test = np.split(wine_quality, [int(0.8 * len(wine_quality))])\n",
    "train.to_csv(\"original_data/wine_quality_train.csv\", index=False)\n",
    "test.to_csv(\"original_data/wine_quality_test.csv\", index=False)"
   ]
  }
 ],
 "metadata": {
  "kernelspec": {
   "display_name": "Python 3 (ipykernel)",
   "language": "python",
   "name": "python3"
  },
  "language_info": {
   "codemirror_mode": {
    "name": "ipython",
    "version": 3
   },
   "file_extension": ".py",
   "mimetype": "text/x-python",
   "name": "python",
   "nbconvert_exporter": "python",
   "pygments_lexer": "ipython3",
   "version": "3.9.15"
  }
 },
 "nbformat": 4,
 "nbformat_minor": 5
}
